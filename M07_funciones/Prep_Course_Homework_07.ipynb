{
 "cells": [
  {
   "attachments": {},
   "cell_type": "markdown",
   "metadata": {},
   "source": [
    "## Funciones"
   ]
  },
  {
   "attachments": {},
   "cell_type": "markdown",
   "metadata": {},
   "source": [
    "1) Crear una función que reciba un número como parámetro y devuelva True si es primo y False si no lo es"
   ]
  },
  {
   "cell_type": "code",
   "execution_count": 1,
   "metadata": {},
   "outputs": [],
   "source": [
    "def is_primo(numero):\n",
    "    is_primo_ban = True \n",
    "    if numero>0:\n",
    "        if numero == 1:\n",
    "            return False\n",
    "        else:\n",
    "            for i in range(2, numero):\n",
    "                if numero % i==0:\n",
    "                    is_primo_ban = False\n",
    "                    break\n",
    "            return is_primo_ban\n",
    "    \n"
   ]
  },
  {
   "cell_type": "code",
   "execution_count": 6,
   "metadata": {},
   "outputs": [
    {
     "name": "stdout",
     "output_type": "stream",
     "text": [
      "True\n"
     ]
    }
   ],
   "source": [
    "print(is_primo(13))"
   ]
  },
  {
   "attachments": {},
   "cell_type": "markdown",
   "metadata": {},
   "source": [
    "2) Utilizando la función del punto 1, realizar otra función que reciba de parámetro una lista de números y devuelva sólo aquellos que son primos en otra lista"
   ]
  },
  {
   "cell_type": "code",
   "execution_count": 7,
   "metadata": {},
   "outputs": [],
   "source": [
    "def list_primos(numeros):\n",
    "    lista_numeros_primos = list()\n",
    "    for numero in numeros:\n",
    "        if(is_primo(numero)):\n",
    "            lista_numeros_primos.append(numero)\n",
    "    return lista_numeros_primos\n"
   ]
  },
  {
   "cell_type": "code",
   "execution_count": 8,
   "metadata": {},
   "outputs": [
    {
     "name": "stdout",
     "output_type": "stream",
     "text": [
      "[2, 3, 5, 7, 11, 13, 17, 19]\n"
     ]
    }
   ],
   "source": [
    "lista_numeros = [2,3,4,5,6,7,8,9,10,11,12,13,1,4,15,16,17,18,19,20]\n",
    "\n",
    "print(list_primos(lista_numeros))"
   ]
  },
  {
   "attachments": {},
   "cell_type": "markdown",
   "metadata": {},
   "source": [
    "3) Crear una función que al recibir una lista de números, devuelva el que más se repite y cuántas veces lo hace. Si hay más de un \"más repetido\", que devuelva cualquiera"
   ]
  },
  {
   "cell_type": "code",
   "execution_count": 59,
   "metadata": {},
   "outputs": [],
   "source": [
    "def numero_mas_veces_repetido(numeros):\n",
    "    numeros_key_value = dict()\n",
    "    mayor = 0\n",
    "    veces = 0  \n",
    "    for numero in numeros:\n",
    "        numeros_key_value[numero] = numeros.count(numero)\n",
    "    for key_value in numeros_key_value:\n",
    "        if(numeros_key_value[key_value]>mayor):\n",
    "            veces = numeros_key_value[key_value]\n",
    "            mayor = key_value\n",
    "    return mayor, veces"
   ]
  },
  {
   "cell_type": "code",
   "execution_count": 60,
   "metadata": {},
   "outputs": [
    {
     "name": "stdout",
     "output_type": "stream",
     "text": [
      "(4, 4)\n"
     ]
    }
   ],
   "source": [
    "lista_numeros_repetidos = [2,3,4,5,6,7,8,9,10,11,12,13,1,4,15,16,17,18,19,20, 2,3,4,5,6,7,8,9,10,11,12,13,1,4,15,16,17,18,19,20, 20]\n",
    "\n",
    "print(numero_mas_veces_repetido(lista_numeros_repetidos))"
   ]
  },
  {
   "attachments": {},
   "cell_type": "markdown",
   "metadata": {},
   "source": [
    "4) Crear una función que convierta entre grados Celsius, Farenheit y Kelvin<br>\n",
    "Fórmula 1\t: (°C × 9/5) + 32 = °F<br>\n",
    "Fórmula 2\t: °C + 273.15 = °K<br>\n",
    "Debe recibir 3 parámetros: el valor, la medida de orígen y la medida de destino\n"
   ]
  },
  {
   "cell_type": "code",
   "execution_count": 67,
   "metadata": {},
   "outputs": [],
   "source": [
    "def convert_unit_of_measure(valor, unidad_medida_origen, unidad_medida_destino):\n",
    "    if unidad_medida_origen=='Celsius':\n",
    "        if unidad_medida_destino =='Farenheit':\n",
    "            return (valor * 9/5) + 32\n",
    "        elif unidad_medida_destino =='Kelvin':\n",
    "            return valor + 273.15\n",
    "        else:\n",
    "            return valor\n",
    "\n",
    "    elif unidad_medida_origen=='Farenheit':\n",
    "        if unidad_medida_destino =='Celsius':\n",
    "            return (valor - 32)/(9/5)\n",
    "        elif unidad_medida_destino =='Kelvin':\n",
    "            return ((valor - 32)/(9/5)) + 273.15\n",
    "        else:\n",
    "            return valor\n",
    "    else:\n",
    "        if unidad_medida_destino =='Celsius':\n",
    "            return valor  - 273.15\n",
    "        elif unidad_medida_destino =='Farenheit':\n",
    "            return ((valor  - 273.15) * 9/5) + 32\n",
    "        else:\n",
    "            return valor\n"
   ]
  },
  {
   "cell_type": "code",
   "execution_count": 72,
   "metadata": {},
   "outputs": [
    {
     "data": {
      "text/plain": [
       "26.850000000000023"
      ]
     },
     "execution_count": 72,
     "metadata": {},
     "output_type": "execute_result"
    }
   ],
   "source": [
    "convert_unit_of_measure(300,'Kelvin','Celsius')"
   ]
  },
  {
   "attachments": {},
   "cell_type": "markdown",
   "metadata": {},
   "source": [
    "5) Iterando una lista con los tres valores posibles de temperatura que recibe la función del punto 5, hacer un print para cada combinación de los mismos:"
   ]
  },
  {
   "cell_type": "code",
   "execution_count": 74,
   "metadata": {},
   "outputs": [
    {
     "name": "stdout",
     "output_type": "stream",
     "text": [
      "1 grado Celsius a Celsius : 1\n",
      "1 grado Celsius a Kelvin : 274.15\n",
      "1 grado Celsius a Farenheit : 33.8\n",
      "1 grado Kelvin a Celsius : -272.15\n",
      "1 grado Kelvin a Kelvin : 1\n",
      "1 grado Kelvin a Farenheit : -457.87\n",
      "1 grado Farenheit a Celsius : -17.22222222222222\n",
      "1 grado Farenheit a Kelvin : 255.92777777777775\n",
      "1 grado Farenheit a Farenheit : 1\n"
     ]
    }
   ],
   "source": [
    "metricas = ['Celsius', 'Kelvin', 'Farenheit']  # Lista de las unidades métricas\n",
    "\n",
    "for i in range(0, 3):  # Bucle exterior que itera sobre los índices de la lista de metricas\n",
    "    for j in range(0, 3):  # Bucle interior que itera sobre los índices de la lista de metricas\n",
    "        # Se imprime la conversión de 1 grado desde la unidad métrica en el índice i a la unidad métrica en el índice j\n",
    "        # utilizando la función de conversión_grados\n",
    "        print('1 grado', metricas[i], 'a', metricas[j], ':', convert_unit_of_measure(1, metricas[i], metricas[j]))\n"
   ]
  },
  {
   "attachments": {},
   "cell_type": "markdown",
   "metadata": {},
   "source": [
    "6) Armar una función que devuelva el factorial de un número. Tener en cuenta que el usuario puede equivocarse y enviar de parámetro un número no entero o negativo"
   ]
  },
  {
   "cell_type": "code",
   "execution_count": 75,
   "metadata": {},
   "outputs": [],
   "source": [
    "def factorial_numero(numero):\n",
    "    if type(numero) == float:\n",
    "        return 'Es flotante'\n",
    "    if not(numero>0):\n",
    "        return 'Es numero es negativo o igual cero'\n",
    "    return factorial_calculate(numero)\n",
    "\n",
    "def factorial_calculate(numero):\n",
    "    if numero>1:\n",
    "        return numero * factorial_calculate(numero-1)\n",
    "    else:\n",
    "        return numero"
   ]
  },
  {
   "cell_type": "code",
   "execution_count": 77,
   "metadata": {},
   "outputs": [
    {
     "name": "stdout",
     "output_type": "stream",
     "text": [
      "3628800\n"
     ]
    }
   ],
   "source": [
    "print(factorial_numero(10))"
   ]
  }
 ],
 "metadata": {
  "interpreter": {
   "hash": "c85384e4cb51c8b72350f3a8712cc8351fdc3955e32a27f9b60c6242ab125f01"
  },
  "kernelspec": {
   "display_name": "Python 3 (ipykernel)",
   "language": "python",
   "name": "python3"
  },
  "language_info": {
   "codemirror_mode": {
    "name": "ipython",
    "version": 3
   },
   "file_extension": ".py",
   "mimetype": "text/x-python",
   "name": "python",
   "nbconvert_exporter": "python",
   "pygments_lexer": "ipython3",
   "version": "3.12.0"
  }
 },
 "nbformat": 4,
 "nbformat_minor": 4
}
