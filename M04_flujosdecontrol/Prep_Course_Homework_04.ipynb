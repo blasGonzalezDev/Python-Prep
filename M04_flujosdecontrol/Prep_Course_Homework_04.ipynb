{
 "cells": [
  {
   "attachments": {},
   "cell_type": "markdown",
   "metadata": {},
   "source": [
    "## Flujos de Control"
   ]
  },
  {
   "attachments": {},
   "cell_type": "markdown",
   "metadata": {},
   "source": [
    "1) Crear una variable que contenga un elemento del conjunto de números enteros y luego imprimir por pantalla si es mayor o menor a cero"
   ]
  },
  {
   "cell_type": "code",
   "execution_count": 41,
   "metadata": {},
   "outputs": [
    {
     "name": "stdout",
     "output_type": "stream",
     "text": [
      "Es mayor a cero\n"
     ]
    }
   ],
   "source": [
    "numEntero = 10\n",
    "if numEntero > 0:\n",
    "    print(\"Es mayor a cero\")\n",
    "elif numEntero < 0:\n",
    "    print(\"Es menor a cero\")\n",
    "else:\n",
    "    print(\"Es igual a cero\")"
   ]
  },
  {
   "attachments": {},
   "cell_type": "markdown",
   "metadata": {},
   "source": [
    "2) Crear dos variables y un condicional que informe si son del mismo tipo de dato"
   ]
  },
  {
   "cell_type": "code",
   "execution_count": 42,
   "metadata": {},
   "outputs": [
    {
     "name": "stdout",
     "output_type": "stream",
     "text": [
      "No son el mismo tipo de dato\n"
     ]
    }
   ],
   "source": [
    "precio = 10000\n",
    "nombre = \"COCA COLA\"\n",
    "if type(precio) !=  type(nombre):\n",
    "    print(\"No son el mismo tipo de dato\")\n",
    "else:\n",
    "    print(\"Son el mismo tipo de dato\") "
   ]
  },
  {
   "attachments": {},
   "cell_type": "markdown",
   "metadata": {},
   "source": [
    "3) Para los valores enteros del 1 al 20, imprimir por pantalla si es par o impar"
   ]
  },
  {
   "cell_type": "code",
   "execution_count": 43,
   "metadata": {},
   "outputs": [
    {
     "name": "stdout",
     "output_type": "stream",
     "text": [
      "El  1  es impar\n",
      "El  2  es par\n",
      "El  3  es impar\n",
      "El  4  es par\n",
      "El  5  es impar\n",
      "El  6  es par\n",
      "El  7  es impar\n",
      "El  8  es par\n",
      "El  9  es impar\n",
      "El  10  es par\n",
      "El  11  es impar\n",
      "El  12  es par\n",
      "El  13  es impar\n",
      "El  14  es par\n",
      "El  15  es impar\n",
      "El  16  es par\n",
      "El  17  es impar\n",
      "El  18  es par\n",
      "El  19  es impar\n",
      "El  20  es par\n"
     ]
    }
   ],
   "source": [
    "for i in range(1,21):\n",
    "    if(i%2==0):\n",
    "        print(\"El \", str(i),\" es par\")\n",
    "    else:\n",
    "        print(\"El \",str(i), \" es impar\")"
   ]
  },
  {
   "attachments": {},
   "cell_type": "markdown",
   "metadata": {},
   "source": [
    "4) En un ciclo for mostrar para los valores entre 0 y 5 el resultado de elevarlo a la potencia igual a 3"
   ]
  },
  {
   "cell_type": "code",
   "execution_count": 44,
   "metadata": {},
   "outputs": [
    {
     "name": "stdout",
     "output_type": "stream",
     "text": [
      "0  elevado a la 3 es igual a:  0\n",
      "1  elevado a la 3 es igual a:  1\n",
      "2  elevado a la 3 es igual a:  8\n",
      "3  elevado a la 3 es igual a:  27\n",
      "4  elevado a la 3 es igual a:  64\n",
      "5  elevado a la 3 es igual a:  125\n"
     ]
    }
   ],
   "source": [
    "for i in range(0,6):\n",
    "    print(str(i),  \" elevado a la 3 es igual a: \",str(i**3))"
   ]
  },
  {
   "attachments": {},
   "cell_type": "markdown",
   "metadata": {},
   "source": [
    "5) Crear una variable que contenga un número entero y realizar un ciclo for la misma cantidad de ciclos"
   ]
  },
  {
   "cell_type": "code",
   "execution_count": 45,
   "metadata": {},
   "outputs": [
    {
     "name": "stdout",
     "output_type": "stream",
     "text": [
      "0\n",
      "1\n",
      "2\n",
      "3\n",
      "4\n",
      "5\n",
      "6\n",
      "7\n",
      "8\n",
      "9\n"
     ]
    }
   ],
   "source": [
    "veces = 10\n",
    "for i in range(0,veces):\n",
    "    print(i)"
   ]
  },
  {
   "attachments": {},
   "cell_type": "markdown",
   "metadata": {},
   "source": [
    "6) Utilizar un ciclo while para realizar el factorial de un número guardado en una variable, sólo si la variable contiene un número entero mayor a 0"
   ]
  },
  {
   "cell_type": "code",
   "execution_count": 46,
   "metadata": {},
   "outputs": [
    {
     "name": "stdout",
     "output_type": "stream",
     "text": [
      "El factorial de:  7  es:\n",
      "5040\n"
     ]
    }
   ],
   "source": [
    "factorial = 1\n",
    "numeroEntero =7\n",
    "\n",
    "\n",
    "if (type(numeroEntero) == int):\n",
    "    print(\"El factorial de: \",str(numeroEntero),\" es:\")\n",
    "    while numeroEntero > 0:\n",
    "        factorial = factorial*numeroEntero;\n",
    "        numeroEntero-=1\n",
    "    print(str(factorial))\n",
    "else:\n",
    "    print(\"No es un numero entero\")\n"
   ]
  },
  {
   "attachments": {},
   "cell_type": "markdown",
   "metadata": {},
   "source": [
    "7) Crear un ciclo for dentro de un ciclo while"
   ]
  },
  {
   "cell_type": "code",
   "execution_count": 47,
   "metadata": {},
   "outputs": [
    {
     "name": "stdout",
     "output_type": "stream",
     "text": [
      "3 X 1  =  3\n",
      "3 X 2  =  6\n",
      "3 X 3  =  9\n",
      "3 X 4  =  12\n",
      "3 X 5  =  15\n",
      "3 X 6  =  18\n",
      "3 X 7  =  21\n",
      "3 X 8  =  24\n",
      "3 X 9  =  27\n",
      "3 X 10  =  30\n",
      "2 X 1  =  2\n",
      "2 X 2  =  4\n",
      "2 X 3  =  6\n",
      "2 X 4  =  8\n",
      "2 X 5  =  10\n",
      "2 X 6  =  12\n",
      "2 X 7  =  14\n",
      "2 X 8  =  16\n",
      "2 X 9  =  18\n",
      "2 X 10  =  20\n",
      "1 X 1  =  1\n",
      "1 X 2  =  2\n",
      "1 X 3  =  3\n",
      "1 X 4  =  4\n",
      "1 X 5  =  5\n",
      "1 X 6  =  6\n",
      "1 X 7  =  7\n",
      "1 X 8  =  8\n",
      "1 X 9  =  9\n",
      "1 X 10  =  10\n"
     ]
    }
   ],
   "source": [
    "numero = 3\n",
    "while numero > 0:\n",
    "    for i in range(1,11):\n",
    "        print(str(numero),\"X\",str(i), \" = \", str(numero*i))\n",
    "    numero -=1"
   ]
  },
  {
   "attachments": {},
   "cell_type": "markdown",
   "metadata": {},
   "source": [
    "8) Crear un ciclo while dentro de un ciclo for"
   ]
  },
  {
   "cell_type": "code",
   "execution_count": 48,
   "metadata": {},
   "outputs": [
    {
     "name": "stdout",
     "output_type": "stream",
     "text": [
      "1 X 1  =  1\n",
      "1 X 2  =  2\n",
      "1 X 3  =  3\n",
      "1 X 4  =  4\n",
      "1 X 5  =  5\n",
      "1 X 6  =  6\n",
      "1 X 7  =  7\n",
      "1 X 8  =  8\n",
      "1 X 9  =  9\n",
      "1 X 10  =  10\n",
      "2 X 1  =  2\n",
      "2 X 2  =  4\n",
      "2 X 3  =  6\n",
      "2 X 4  =  8\n",
      "2 X 5  =  10\n",
      "2 X 6  =  12\n",
      "2 X 7  =  14\n",
      "2 X 8  =  16\n",
      "2 X 9  =  18\n",
      "2 X 10  =  20\n",
      "3 X 1  =  3\n",
      "3 X 2  =  6\n",
      "3 X 3  =  9\n",
      "3 X 4  =  12\n",
      "3 X 5  =  15\n",
      "3 X 6  =  18\n",
      "3 X 7  =  21\n",
      "3 X 8  =  24\n",
      "3 X 9  =  27\n",
      "3 X 10  =  30\n"
     ]
    }
   ],
   "source": [
    "numero = 3\n",
    "for num in range(1,numero+1):\n",
    "    i=1\n",
    "    while i<=10:\n",
    "        print(str(num),\"X\",str(i), \" = \", str(num*i))\n",
    "        i+=1"
   ]
  },
  {
   "attachments": {},
   "cell_type": "markdown",
   "metadata": {},
   "source": [
    "9) Imprimir los números primos existentes entre 0 y 30"
   ]
  },
  {
   "cell_type": "code",
   "execution_count": 49,
   "metadata": {},
   "outputs": [
    {
     "name": "stdout",
     "output_type": "stream",
     "text": [
      "2 es primo\n",
      "3 es primo\n",
      "5 es primo\n",
      "7 es primo\n",
      "11 es primo\n",
      "13 es primo\n",
      "17 es primo\n",
      "19 es primo\n",
      "23 es primo\n",
      "29 es primo\n"
     ]
    }
   ],
   "source": [
    "for num in range(0, 31):\n",
    "    numeroPrimo = True\n",
    "    if num !=0 and num!= 1:\n",
    "        for div in range(2,num):\n",
    "            if num%div==0:\n",
    "                numeroPrimo = False\n",
    "                #break\n",
    "        if numeroPrimo == True:\n",
    "            print(str(num)+\" es primo\")"
   ]
  },
  {
   "attachments": {},
   "cell_type": "markdown",
   "metadata": {},
   "source": [
    "10) ¿Se puede mejorar el proceso del punto 9? Utilizar las sentencias break y/ó continue para tal fin"
   ]
  },
  {
   "cell_type": "code",
   "execution_count": 50,
   "metadata": {},
   "outputs": [
    {
     "name": "stdout",
     "output_type": "stream",
     "text": [
      "2 es primo\n",
      "3 es primo\n",
      "5 es primo\n",
      "7 es primo\n",
      "11 es primo\n",
      "13 es primo\n",
      "17 es primo\n",
      "19 es primo\n",
      "23 es primo\n",
      "29 es primo\n"
     ]
    }
   ],
   "source": [
    "for num in range(0, 31):\n",
    "    numeroPrimo = True\n",
    "    if num !=0 and num!= 1:\n",
    "        for div in range(2,num):\n",
    "            if num%div==0:\n",
    "                numeroPrimo = False\n",
    "                break # Al agregarle un break en este punto no buscará más números \n",
    "        if numeroPrimo == True:\n",
    "            print(str(num)+\" es primo\")"
   ]
  },
  {
   "attachments": {},
   "cell_type": "markdown",
   "metadata": {},
   "source": [
    "11) En los puntos 9 y 10, se diseño un código que encuentra números primos y además se lo optimizó. ¿Es posible saber en qué medida se optimizó?"
   ]
  },
  {
   "cell_type": "code",
   "execution_count": 54,
   "metadata": {},
   "outputs": [
    {
     "name": "stdout",
     "output_type": "stream",
     "text": [
      "2 es primo\n",
      "3 es primo\n",
      "5 es primo\n",
      "7 es primo\n",
      "11 es primo\n",
      "13 es primo\n",
      "17 es primo\n",
      "19 es primo\n",
      "23 es primo\n",
      "29 es primo\n",
      "Total de ciclos sin break:  406\n"
     ]
    }
   ],
   "source": [
    "totalCicloSinBreak = 0\n",
    "for num in range(0, 31):\n",
    "    numeroPrimo = True\n",
    "    if num !=0 and num!= 1:\n",
    "        for div in range(2,num):\n",
    "            totalCicloSinBreak+=1\n",
    "            if num%div==0:\n",
    "                numeroPrimo = False\n",
    "                #break\n",
    "        if numeroPrimo == True:\n",
    "            print(str(num)+\" es primo\")\n",
    "print(\"Total de ciclos sin break: \", totalCicloSinBreak)"
   ]
  },
  {
   "cell_type": "code",
   "execution_count": 55,
   "metadata": {},
   "outputs": [
    {
     "name": "stdout",
     "output_type": "stream",
     "text": [
      "2 es primo\n",
      "3 es primo\n",
      "5 es primo\n",
      "7 es primo\n",
      "11 es primo\n",
      "13 es primo\n",
      "17 es primo\n",
      "19 es primo\n",
      "23 es primo\n",
      "29 es primo\n",
      "Cantidad de ciclos: 135\n",
      "Se optimizó a un 0.33251231527093594% de ciclos aplicando break\n"
     ]
    }
   ],
   "source": [
    "totalCicloConBreak = 0\n",
    "for num in range(0, 31):\n",
    "    numeroPrimo = True\n",
    "    if num !=0 and num!= 1:\n",
    "        for div in range(2,num):\n",
    "            totalCicloConBreak+=1\n",
    "            if num%div==0:\n",
    "                numeroPrimo = False\n",
    "                break\n",
    "        if numeroPrimo == True:\n",
    "            print(str(num)+\" es primo\")\n",
    "print('Cantidad de ciclos: ' + str(totalCicloConBreak))\n",
    "print('Se optimizó a un ' + str(totalCicloConBreak/totalCicloSinBreak) + '% de ciclos aplicando break')"
   ]
  },
  {
   "attachments": {},
   "cell_type": "markdown",
   "metadata": {},
   "source": [
    "12) Aplicando continue, armar un ciclo while que solo imprima los valores divisibles por 12, dentro del rango de números de 100 a 300"
   ]
  },
  {
   "cell_type": "code",
   "execution_count": 57,
   "metadata": {},
   "outputs": [
    {
     "name": "stdout",
     "output_type": "stream",
     "text": [
      "108\n",
      "120\n",
      "132\n",
      "144\n",
      "156\n",
      "168\n",
      "180\n",
      "192\n",
      "204\n",
      "216\n",
      "228\n",
      "240\n",
      "252\n",
      "264\n",
      "276\n",
      "288\n",
      "300\n"
     ]
    }
   ],
   "source": [
    "numero = 99\n",
    "while numero <=300:\n",
    "    if numero%12!=0:\n",
    "        numero+=1\n",
    "        continue\n",
    "    print(numero)\n",
    "    numero +=1"
   ]
  },
  {
   "attachments": {},
   "cell_type": "markdown",
   "metadata": {},
   "source": [
    "13) Utilizar la función **input()** que permite hacer ingresos por teclado, para encontrar números primos y dar la opción al usario de buscar el siguiente"
   ]
  },
  {
   "cell_type": "code",
   "execution_count": 1,
   "metadata": {},
   "outputs": [
    {
     "name": "stdout",
     "output_type": "stream",
     "text": [
      "¿Desea encontrar el siguiente número primo? Presione cualquier tecla, 1 para salir\n",
      "Se finaliza el proceso\n"
     ]
    }
   ],
   "source": [
    "numero = 2 \n",
    "while(True):\n",
    "    numeroPrimo = True\n",
    "    for i in range(2,numero):\n",
    "        if numero%i==0:\n",
    "            numeroPrimo = False\n",
    "            break\n",
    "    if numeroPrimo == True:\n",
    "        print('¿Desea encontrar el siguiente número primo? Presione cualquier tecla, 1 para salir')\n",
    "        if input()!='1':\n",
    "            print(numero)\n",
    "        else:\n",
    "            print('Se finaliza el proceso')\n",
    "            break\n",
    "    numero+=1\n"
   ]
  },
  {
   "attachments": {},
   "cell_type": "markdown",
   "metadata": {},
   "source": [
    "14) Crear un ciclo while que encuentre dentro del rango de 100 a 300 el primer número divisible por 3 y además múltiplo de 6"
   ]
  },
  {
   "cell_type": "code",
   "execution_count": 4,
   "metadata": {},
   "outputs": [
    {
     "name": "stdout",
     "output_type": "stream",
     "text": [
      "El numero es:  102\n"
     ]
    }
   ],
   "source": [
    "numero = 100\n",
    "while numero <=300:\n",
    "    if(numero % 3 == 0 and numero % 6 == 0):\n",
    "        print(\"El numero es: \",numero)\n",
    "        break\n",
    "    numero+=1"
   ]
  }
 ],
 "metadata": {
  "interpreter": {
   "hash": "c85384e4cb51c8b72350f3a8712cc8351fdc3955e32a27f9b60c6242ab125f01"
  },
  "kernelspec": {
   "display_name": "Python 3 (ipykernel)",
   "language": "python",
   "name": "python3"
  },
  "language_info": {
   "codemirror_mode": {
    "name": "ipython",
    "version": 3
   },
   "file_extension": ".py",
   "mimetype": "text/x-python",
   "name": "python",
   "nbconvert_exporter": "python",
   "pygments_lexer": "ipython3",
   "version": "3.12.0"
  }
 },
 "nbformat": 4,
 "nbformat_minor": 4
}
