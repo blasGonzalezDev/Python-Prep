{
 "cells": [
  {
   "attachments": {},
   "cell_type": "markdown",
   "metadata": {},
   "source": [
    "## Estructuras de Datos"
   ]
  },
  {
   "attachments": {},
   "cell_type": "markdown",
   "metadata": {},
   "source": [
    "1) Crear una lista que contenga nombres de ciudades del mundo que contenga más de 5 elementos e imprimir por pantalla"
   ]
  },
  {
   "cell_type": "code",
   "execution_count": 1,
   "metadata": {},
   "outputs": [
    {
     "name": "stdout",
     "output_type": "stream",
     "text": [
      "Asuncion\n",
      "Buenos Aires\n",
      "Brasilia\n",
      "Bogotá\n",
      "Lima\n",
      "La Paz\n"
     ]
    }
   ],
   "source": [
    "lista_cuidades = ['Asuncion', 'Buenos Aires', 'Brasilia', 'Bogotá', 'Lima', 'La Paz']\n",
    "\n",
    "for cuidad in lista_cuidades:\n",
    "    print(cuidad)"
   ]
  },
  {
   "attachments": {},
   "cell_type": "markdown",
   "metadata": {},
   "source": [
    "2) Imprimir por pantalla el segundo elemento de la lista"
   ]
  },
  {
   "cell_type": "code",
   "execution_count": 2,
   "metadata": {},
   "outputs": [
    {
     "name": "stdout",
     "output_type": "stream",
     "text": [
      "Buenos Aires\n"
     ]
    }
   ],
   "source": [
    "print(lista_cuidades[1])"
   ]
  },
  {
   "attachments": {},
   "cell_type": "markdown",
   "metadata": {},
   "source": [
    "3) Imprimir por pantalla del segundo al cuarto elemento"
   ]
  },
  {
   "cell_type": "code",
   "execution_count": 3,
   "metadata": {},
   "outputs": [
    {
     "name": "stdout",
     "output_type": "stream",
     "text": [
      "['Buenos Aires', 'Brasilia', 'Bogotá']\n"
     ]
    }
   ],
   "source": [
    "print(lista_cuidades[1:4])"
   ]
  },
  {
   "attachments": {},
   "cell_type": "markdown",
   "metadata": {},
   "source": [
    "4) Visualizar el tipo de dato de la lista"
   ]
  },
  {
   "cell_type": "code",
   "execution_count": 4,
   "metadata": {},
   "outputs": [
    {
     "name": "stdout",
     "output_type": "stream",
     "text": [
      "<class 'list'>\n"
     ]
    }
   ],
   "source": [
    "print(type(lista_cuidades))"
   ]
  },
  {
   "attachments": {},
   "cell_type": "markdown",
   "metadata": {},
   "source": [
    "5) Visualizar todos los elementos de la lista a partir del tercero de manera genérica, es decir, sin explicitar la posición del último elemento"
   ]
  },
  {
   "cell_type": "code",
   "execution_count": 5,
   "metadata": {},
   "outputs": [
    {
     "name": "stdout",
     "output_type": "stream",
     "text": [
      "['Brasilia', 'Bogotá', 'Lima', 'La Paz']\n"
     ]
    }
   ],
   "source": [
    "print(lista_cuidades[2:])"
   ]
  },
  {
   "attachments": {},
   "cell_type": "markdown",
   "metadata": {},
   "source": [
    "6) Visualizar los primeros 4 elementos de la lista"
   ]
  },
  {
   "cell_type": "code",
   "execution_count": 6,
   "metadata": {},
   "outputs": [
    {
     "name": "stdout",
     "output_type": "stream",
     "text": [
      "['Asuncion', 'Buenos Aires', 'Brasilia', 'Bogotá']\n"
     ]
    }
   ],
   "source": [
    "print(lista_cuidades[:4])"
   ]
  },
  {
   "attachments": {},
   "cell_type": "markdown",
   "metadata": {},
   "source": [
    "7) Agregar una ciudad más a la lista que ya exista y otra que no ¿Arroja algún tipo de error?"
   ]
  },
  {
   "cell_type": "code",
   "execution_count": 7,
   "metadata": {},
   "outputs": [],
   "source": [
    "lista_cuidades.append(\"Caracas\")\n",
    "lista_cuidades.append(\"Asuncion\")"
   ]
  },
  {
   "attachments": {},
   "cell_type": "markdown",
   "metadata": {},
   "source": [
    "8) Agregar otra ciudad, pero en la cuarta posición"
   ]
  },
  {
   "cell_type": "code",
   "execution_count": 8,
   "metadata": {},
   "outputs": [],
   "source": [
    "lista_cuidades.insert(3,\"Montevideo\")"
   ]
  },
  {
   "cell_type": "code",
   "execution_count": 9,
   "metadata": {},
   "outputs": [
    {
     "name": "stdout",
     "output_type": "stream",
     "text": [
      "['Asuncion', 'Buenos Aires', 'Brasilia', 'Montevideo', 'Bogotá', 'Lima', 'La Paz', 'Caracas', 'Asuncion']\n"
     ]
    }
   ],
   "source": [
    "print(lista_cuidades)"
   ]
  },
  {
   "attachments": {},
   "cell_type": "markdown",
   "metadata": {},
   "source": [
    "9) Concatenar otra lista a la ya creada"
   ]
  },
  {
   "cell_type": "code",
   "execution_count": 10,
   "metadata": {},
   "outputs": [],
   "source": [
    "lista_ciudades_europa = ['París', 'Londres', 'Berlín', 'Madrid', 'Roma', 'Ámsterdam', 'Praga', 'Viena', 'Atenas', 'Varsovia']\n",
    "lista_cuidades.extend(lista_ciudades_europa)"
   ]
  },
  {
   "cell_type": "code",
   "execution_count": 11,
   "metadata": {},
   "outputs": [
    {
     "name": "stdout",
     "output_type": "stream",
     "text": [
      "['Asuncion', 'Buenos Aires', 'Brasilia', 'Montevideo', 'Bogotá', 'Lima', 'La Paz', 'Caracas', 'Asuncion', 'París', 'Londres', 'Berlín', 'Madrid', 'Roma', 'Ámsterdam', 'Praga', 'Viena', 'Atenas', 'Varsovia']\n"
     ]
    }
   ],
   "source": [
    "print(lista_cuidades)"
   ]
  },
  {
   "attachments": {},
   "cell_type": "markdown",
   "metadata": {},
   "source": [
    "10) Encontrar el índice de la ciudad que en el punto 7 agregamos duplicada. ¿Se nota alguna particularidad?"
   ]
  },
  {
   "cell_type": "code",
   "execution_count": 12,
   "metadata": {},
   "outputs": [
    {
     "name": "stdout",
     "output_type": "stream",
     "text": [
      "0\n"
     ]
    }
   ],
   "source": [
    "print(lista_cuidades.index('Asuncion')) # Si que encuentra solo el primero entre los dos"
   ]
  },
  {
   "attachments": {},
   "cell_type": "markdown",
   "metadata": {},
   "source": [
    "11) ¿Qué pasa si se busca un elemento que no existe?"
   ]
  },
  {
   "cell_type": "code",
   "execution_count": 13,
   "metadata": {},
   "outputs": [
    {
     "ename": "ValueError",
     "evalue": "'España' is not in list",
     "output_type": "error",
     "traceback": [
      "\u001b[0;31m---------------------------------------------------------------------------\u001b[0m",
      "\u001b[0;31mValueError\u001b[0m                                Traceback (most recent call last)",
      "\u001b[1;32m/Users/blasadriangonzalezozuna/Pre-curso/Python-Prep/M05_estructuradedatos/Prep_Course_Homework_05.ipynb Cell 25\u001b[0m line \u001b[0;36m1\n\u001b[0;32m----> <a href='vscode-notebook-cell:/Users/blasadriangonzalezozuna/Pre-curso/Python-Prep/M05_estructuradedatos/Prep_Course_Homework_05.ipynb#X31sZmlsZQ%3D%3D?line=0'>1</a>\u001b[0m lista_cuidades\u001b[39m.\u001b[39;49mindex(\u001b[39m'\u001b[39;49m\u001b[39mEspaña\u001b[39;49m\u001b[39m'\u001b[39;49m) \u001b[39m#Da un error que elemento buscado no esta en la lista\u001b[39;00m\n",
      "\u001b[0;31mValueError\u001b[0m: 'España' is not in list"
     ]
    }
   ],
   "source": [
    "lista_cuidades.index('España') #Da un error que elemento buscado no esta en la lista"
   ]
  },
  {
   "attachments": {},
   "cell_type": "markdown",
   "metadata": {},
   "source": [
    "12) Eliminar un elemento de la lista"
   ]
  },
  {
   "cell_type": "code",
   "execution_count": 14,
   "metadata": {},
   "outputs": [],
   "source": [
    "lista_cuidades.remove('Lima')"
   ]
  },
  {
   "attachments": {},
   "cell_type": "markdown",
   "metadata": {},
   "source": [
    "13) ¿Qué pasa si el elemento a eliminar no existe?"
   ]
  },
  {
   "cell_type": "code",
   "execution_count": 15,
   "metadata": {},
   "outputs": [
    {
     "ename": "ValueError",
     "evalue": "list.remove(x): x not in list",
     "output_type": "error",
     "traceback": [
      "\u001b[0;31m---------------------------------------------------------------------------\u001b[0m",
      "\u001b[0;31mValueError\u001b[0m                                Traceback (most recent call last)",
      "\u001b[1;32m/Users/blasadriangonzalezozuna/Pre-curso/Python-Prep/M05_estructuradedatos/Prep_Course_Homework_05.ipynb Cell 29\u001b[0m line \u001b[0;36m1\n\u001b[0;32m----> <a href='vscode-notebook-cell:/Users/blasadriangonzalezozuna/Pre-curso/Python-Prep/M05_estructuradedatos/Prep_Course_Homework_05.ipynb#X35sZmlsZQ%3D%3D?line=0'>1</a>\u001b[0m lista_cuidades\u001b[39m.\u001b[39;49mremove(\u001b[39m'\u001b[39;49m\u001b[39mEspaña\u001b[39;49m\u001b[39m'\u001b[39;49m) \u001b[39m#Da un error que el elemento a eliminar no existe\u001b[39;00m\n",
      "\u001b[0;31mValueError\u001b[0m: list.remove(x): x not in list"
     ]
    }
   ],
   "source": [
    "lista_cuidades.remove('España') #Da un error que el elemento a eliminar no existe"
   ]
  },
  {
   "attachments": {},
   "cell_type": "markdown",
   "metadata": {},
   "source": [
    "14) Extraer el úlimo elemento de la lista, guardarlo en una variable e imprimirlo"
   ]
  },
  {
   "cell_type": "code",
   "execution_count": 16,
   "metadata": {},
   "outputs": [
    {
     "name": "stdout",
     "output_type": "stream",
     "text": [
      "Varsovia\n"
     ]
    }
   ],
   "source": [
    "ultimo_elemento = lista_cuidades.pop()\n",
    "print(ultimo_elemento)"
   ]
  },
  {
   "attachments": {},
   "cell_type": "markdown",
   "metadata": {},
   "source": [
    "15) Mostrar la lista multiplicada por 4"
   ]
  },
  {
   "cell_type": "code",
   "execution_count": 17,
   "metadata": {},
   "outputs": [
    {
     "name": "stdout",
     "output_type": "stream",
     "text": [
      "['Asuncion', 'Buenos Aires', 'Brasilia', 'Montevideo', 'Bogotá', 'La Paz', 'Caracas', 'Asuncion', 'París', 'Londres', 'Berlín', 'Madrid', 'Roma', 'Ámsterdam', 'Praga', 'Viena', 'Atenas', 'Asuncion', 'Buenos Aires', 'Brasilia', 'Montevideo', 'Bogotá', 'La Paz', 'Caracas', 'Asuncion', 'París', 'Londres', 'Berlín', 'Madrid', 'Roma', 'Ámsterdam', 'Praga', 'Viena', 'Atenas', 'Asuncion', 'Buenos Aires', 'Brasilia', 'Montevideo', 'Bogotá', 'La Paz', 'Caracas', 'Asuncion', 'París', 'Londres', 'Berlín', 'Madrid', 'Roma', 'Ámsterdam', 'Praga', 'Viena', 'Atenas', 'Asuncion', 'Buenos Aires', 'Brasilia', 'Montevideo', 'Bogotá', 'La Paz', 'Caracas', 'Asuncion', 'París', 'Londres', 'Berlín', 'Madrid', 'Roma', 'Ámsterdam', 'Praga', 'Viena', 'Atenas']\n"
     ]
    }
   ],
   "source": [
    "print(lista_cuidades*4)"
   ]
  },
  {
   "attachments": {},
   "cell_type": "markdown",
   "metadata": {},
   "source": [
    "16) Crear una tupla que contenga los números enteros del 1 al 20"
   ]
  },
  {
   "cell_type": "code",
   "execution_count": 18,
   "metadata": {},
   "outputs": [
    {
     "name": "stdout",
     "output_type": "stream",
     "text": [
      "<class 'tuple'>\n",
      "(1, 2, 3, 4, 5, 6, 7, 8, 9, 10, 11, 12, 13, 14, 15, 16, 17, 18, 19, 20)\n"
     ]
    }
   ],
   "source": [
    "lista_enteros = list()\n",
    "for i in range(1,21):\n",
    "    lista_enteros.append(i)\n",
    "tupla_enteros = tuple(lista_enteros)\n",
    "print(type(tupla_enteros))\n",
    "print(tupla_enteros)"
   ]
  },
  {
   "attachments": {},
   "cell_type": "markdown",
   "metadata": {},
   "source": [
    "17) Imprimir desde el índice 10 al 15 de la tupla"
   ]
  },
  {
   "cell_type": "code",
   "execution_count": 19,
   "metadata": {},
   "outputs": [
    {
     "name": "stdout",
     "output_type": "stream",
     "text": [
      "(11, 12, 13, 14, 15, 16)\n"
     ]
    }
   ],
   "source": [
    "print(tupla_enteros[10:16])"
   ]
  },
  {
   "attachments": {},
   "cell_type": "markdown",
   "metadata": {},
   "source": [
    "18) Evaluar si los números 20 y 30 están dentro de la tupla"
   ]
  },
  {
   "cell_type": "code",
   "execution_count": 20,
   "metadata": {},
   "outputs": [
    {
     "name": "stdout",
     "output_type": "stream",
     "text": [
      "True\n",
      "False\n"
     ]
    }
   ],
   "source": [
    "print(20 in tupla_enteros)\n",
    "print(30 in tupla_enteros)"
   ]
  },
  {
   "attachments": {},
   "cell_type": "markdown",
   "metadata": {},
   "source": [
    "19) Con la lista creada en el punto 1, validar la existencia del elemento 'París' y si no existe, agregarlo. Utilizar una variable e informar lo sucedido."
   ]
  },
  {
   "cell_type": "code",
   "execution_count": 21,
   "metadata": {},
   "outputs": [
    {
     "name": "stdout",
     "output_type": "stream",
     "text": [
      "París ya exist en la lista de ciudades\n"
     ]
    }
   ],
   "source": [
    "elemento = 'París'\n",
    "if(not(elemento in lista_cuidades)):\n",
    "    lista_cuidades.append(elemento)\n",
    "    print('Se ha agregado ' +elemento+ ' a la lista de cuidades')\n",
    "else:\n",
    "    print(elemento + \" ya exist en la lista de ciudades\")\n"
   ]
  },
  {
   "attachments": {},
   "cell_type": "markdown",
   "metadata": {},
   "source": [
    "20) Mostrar la cantidad de veces que se encuentra un elemento específico dentro de la tupla y de la lista"
   ]
  },
  {
   "cell_type": "code",
   "execution_count": 22,
   "metadata": {},
   "outputs": [
    {
     "name": "stdout",
     "output_type": "stream",
     "text": [
      "2\n",
      "1\n"
     ]
    }
   ],
   "source": [
    "print(lista_cuidades.count(\"Asuncion\"))\n",
    "print(tupla_enteros.count(1))"
   ]
  },
  {
   "attachments": {},
   "cell_type": "markdown",
   "metadata": {},
   "source": [
    "21) Convertir la tupla en una lista"
   ]
  },
  {
   "cell_type": "code",
   "execution_count": 23,
   "metadata": {},
   "outputs": [
    {
     "name": "stdout",
     "output_type": "stream",
     "text": [
      "[1, 2, 3, 4, 5, 6, 7, 8, 9, 10, 11, 12, 13, 14, 15, 16, 17, 18, 19, 20]\n"
     ]
    }
   ],
   "source": [
    "lista_enteros_convert = list(tupla_enteros)\n",
    "print(lista_enteros_convert)"
   ]
  },
  {
   "attachments": {},
   "cell_type": "markdown",
   "metadata": {},
   "source": [
    "22) Desempaquetar solo los primeros 3 elementos de la tupla en 3 variables"
   ]
  },
  {
   "cell_type": "code",
   "execution_count": 24,
   "metadata": {},
   "outputs": [
    {
     "name": "stdout",
     "output_type": "stream",
     "text": [
      "1\n",
      "2\n",
      "3\n"
     ]
    }
   ],
   "source": [
    "primero = tupla_enteros[0]\n",
    "segundo = tupla_enteros[1]\n",
    "tercero = tupla_enteros[2]\n",
    "\n",
    "print(primero)\n",
    "print(segundo)\n",
    "print(tercero)"
   ]
  },
  {
   "attachments": {},
   "cell_type": "markdown",
   "metadata": {},
   "source": [
    "23) Crear un diccionario utilizando la lista crada en el punto 1, asignandole la clave \"ciudad\". Agregar tambien otras claves, como puede ser \"Pais\" y \"Continente\"."
   ]
  },
  {
   "cell_type": "code",
   "execution_count": 27,
   "metadata": {},
   "outputs": [
    {
     "name": "stdout",
     "output_type": "stream",
     "text": [
      "{'ciudad': ['Asuncion', 'Buenos Aires', 'Brasilia', 'Montevideo', 'Bogotá', 'La Paz', 'Caracas', 'Asuncion', 'París', 'Londres', 'Berlín', 'Madrid', 'Roma', 'Ámsterdam', 'Praga', 'Viena', 'Atenas'], 'pais': '', 'continente': ''}\n"
     ]
    }
   ],
   "source": [
    "dicccionario_cuidad_pais_continente = dict()\n",
    "\n",
    "dicccionario_cuidad_pais_continente['ciudad'] = lista_cuidades\n",
    "dicccionario_cuidad_pais_continente['pais'] = ''\n",
    "dicccionario_cuidad_pais_continente['continente'] = ''\n",
    "\n",
    "print(dicccionario_cuidad_pais_continente)"
   ]
  },
  {
   "attachments": {},
   "cell_type": "markdown",
   "metadata": {},
   "source": [
    "24) Imprimir las claves del diccionario"
   ]
  },
  {
   "cell_type": "code",
   "execution_count": 28,
   "metadata": {},
   "outputs": [
    {
     "name": "stdout",
     "output_type": "stream",
     "text": [
      "dict_keys(['ciudad', 'pais', 'continente'])\n"
     ]
    }
   ],
   "source": [
    "print(dicccionario_cuidad_pais_continente.keys())"
   ]
  },
  {
   "attachments": {},
   "cell_type": "markdown",
   "metadata": {},
   "source": [
    "25) Imprimir las ciudades a través de su clave"
   ]
  },
  {
   "cell_type": "code",
   "execution_count": 29,
   "metadata": {},
   "outputs": [
    {
     "name": "stdout",
     "output_type": "stream",
     "text": [
      "['Asuncion', 'Buenos Aires', 'Brasilia', 'Montevideo', 'Bogotá', 'La Paz', 'Caracas', 'Asuncion', 'París', 'Londres', 'Berlín', 'Madrid', 'Roma', 'Ámsterdam', 'Praga', 'Viena', 'Atenas']\n"
     ]
    }
   ],
   "source": [
    "print(dicccionario_cuidad_pais_continente['ciudad'])"
   ]
  }
 ],
 "metadata": {
  "interpreter": {
   "hash": "c85384e4cb51c8b72350f3a8712cc8351fdc3955e32a27f9b60c6242ab125f01"
  },
  "kernelspec": {
   "display_name": "Python 3 (ipykernel)",
   "language": "python",
   "name": "python3"
  },
  "language_info": {
   "codemirror_mode": {
    "name": "ipython",
    "version": 3
   },
   "file_extension": ".py",
   "mimetype": "text/x-python",
   "name": "python",
   "nbconvert_exporter": "python",
   "pygments_lexer": "ipython3",
   "version": "3.12.0"
  }
 },
 "nbformat": 4,
 "nbformat_minor": 4
}
